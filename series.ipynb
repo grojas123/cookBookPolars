{
 "cells": [
  {
   "cell_type": "code",
   "id": "initial_id",
   "metadata": {
    "collapsed": true,
    "ExecuteTime": {
     "end_time": "2024-10-07T02:18:04.067273Z",
     "start_time": "2024-10-07T02:18:01.051801Z"
    }
   },
   "source": "import polars as pl",
   "outputs": [],
   "execution_count": 2
  },
  {
   "metadata": {
    "ExecuteTime": {
     "end_time": "2024-10-07T02:18:05.778846Z",
     "start_time": "2024-10-07T02:18:05.775571Z"
    }
   },
   "cell_type": "code",
   "source": "s=pl.Series('col',[1,2,3,4,5]) ",
   "id": "4e9b604a7f077fcc",
   "outputs": [],
   "execution_count": 3
  },
  {
   "metadata": {
    "ExecuteTime": {
     "end_time": "2024-10-07T02:18:33.403738Z",
     "start_time": "2024-10-07T02:18:33.398647Z"
    }
   },
   "cell_type": "code",
   "source": "s.head()",
   "id": "5e431c2aeb2ccf05",
   "outputs": [
    {
     "data": {
      "text/plain": [
       "shape: (5,)\n",
       "Series: 'col' [i64]\n",
       "[\n",
       "\t1\n",
       "\t2\n",
       "\t3\n",
       "\t4\n",
       "\t5\n",
       "]"
      ],
      "text/html": [
       "<div><style>\n",
       ".dataframe > thead > tr,\n",
       ".dataframe > tbody > tr {\n",
       "  text-align: right;\n",
       "  white-space: pre-wrap;\n",
       "}\n",
       "</style>\n",
       "<small>shape: (5,)</small><table border=\"1\" class=\"dataframe\"><thead><tr><th>col</th></tr><tr><td>i64</td></tr></thead><tbody><tr><td>1</td></tr><tr><td>2</td></tr><tr><td>3</td></tr><tr><td>4</td></tr><tr><td>5</td></tr></tbody></table></div>"
      ]
     },
     "execution_count": 5,
     "metadata": {},
     "output_type": "execute_result"
    }
   ],
   "execution_count": 5
  },
  {
   "metadata": {
    "ExecuteTime": {
     "end_time": "2024-10-07T02:22:04.857935Z",
     "start_time": "2024-10-07T02:22:04.851289Z"
    }
   },
   "cell_type": "code",
   "source": [
    "data = {'a': [1,2,3], 'b': [4,5,6]}\n",
    "s_a = (pl.DataFrame(data).to_series())\n",
    "s_a.head()"
   ],
   "id": "a040eba137bc9e0d",
   "outputs": [
    {
     "data": {
      "text/plain": [
       "shape: (3,)\n",
       "Series: 'a' [i64]\n",
       "[\n",
       "\t1\n",
       "\t2\n",
       "\t3\n",
       "]"
      ],
      "text/html": [
       "<div><style>\n",
       ".dataframe > thead > tr,\n",
       ".dataframe > tbody > tr {\n",
       "  text-align: right;\n",
       "  white-space: pre-wrap;\n",
       "}\n",
       "</style>\n",
       "<small>shape: (3,)</small><table border=\"1\" class=\"dataframe\"><thead><tr><th>a</th></tr><tr><td>i64</td></tr></thead><tbody><tr><td>1</td></tr><tr><td>2</td></tr><tr><td>3</td></tr></tbody></table></div>"
      ]
     },
     "execution_count": 6,
     "metadata": {},
     "output_type": "execute_result"
    }
   ],
   "execution_count": 6
  },
  {
   "metadata": {
    "ExecuteTime": {
     "end_time": "2024-10-07T02:23:43.264509Z",
     "start_time": "2024-10-07T02:23:43.257730Z"
    }
   },
   "cell_type": "code",
   "source": [
    "s_b=(pl.DataFrame(data).to_series(1))\n",
    "s_b.head()"
   ],
   "id": "b411f3367712ef9d",
   "outputs": [
    {
     "data": {
      "text/plain": [
       "shape: (3,)\n",
       "Series: 'b' [i64]\n",
       "[\n",
       "\t4\n",
       "\t5\n",
       "\t6\n",
       "]"
      ],
      "text/html": [
       "<div><style>\n",
       ".dataframe > thead > tr,\n",
       ".dataframe > tbody > tr {\n",
       "  text-align: right;\n",
       "  white-space: pre-wrap;\n",
       "}\n",
       "</style>\n",
       "<small>shape: (3,)</small><table border=\"1\" class=\"dataframe\"><thead><tr><th>b</th></tr><tr><td>i64</td></tr></thead><tbody><tr><td>4</td></tr><tr><td>5</td></tr><tr><td>6</td></tr></tbody></table></div>"
      ]
     },
     "execution_count": 7,
     "metadata": {},
     "output_type": "execute_result"
    }
   ],
   "execution_count": 7
  },
  {
   "metadata": {
    "ExecuteTime": {
     "end_time": "2024-10-07T02:26:10.559112Z",
     "start_time": "2024-10-07T02:26:10.554012Z"
    }
   },
   "cell_type": "code",
   "source": [
    "s_b2=(pl.DataFrame(data).get_column('b'))\n",
    "s_b2.head()"
   ],
   "id": "97fab53fb2006b57",
   "outputs": [
    {
     "data": {
      "text/plain": [
       "shape: (3,)\n",
       "Series: 'b' [i64]\n",
       "[\n",
       "\t4\n",
       "\t5\n",
       "\t6\n",
       "]"
      ],
      "text/html": [
       "<div><style>\n",
       ".dataframe > thead > tr,\n",
       ".dataframe > tbody > tr {\n",
       "  text-align: right;\n",
       "  white-space: pre-wrap;\n",
       "}\n",
       "</style>\n",
       "<small>shape: (3,)</small><table border=\"1\" class=\"dataframe\"><thead><tr><th>b</th></tr><tr><td>i64</td></tr></thead><tbody><tr><td>4</td></tr><tr><td>5</td></tr><tr><td>6</td></tr></tbody></table></div>"
      ]
     },
     "execution_count": 8,
     "metadata": {},
     "output_type": "execute_result"
    }
   ],
   "execution_count": 8
  },
  {
   "metadata": {
    "ExecuteTime": {
     "end_time": "2024-10-07T02:26:37.333508Z",
     "start_time": "2024-10-07T02:26:37.328673Z"
    }
   },
   "cell_type": "code",
   "source": "s.shape",
   "id": "6df0d933307db0b6",
   "outputs": [
    {
     "data": {
      "text/plain": [
       "(5,)"
      ]
     },
     "execution_count": 9,
     "metadata": {},
     "output_type": "execute_result"
    }
   ],
   "execution_count": 9
  },
  {
   "metadata": {
    "ExecuteTime": {
     "end_time": "2024-10-07T02:26:52.816252Z",
     "start_time": "2024-10-07T02:26:52.810428Z"
    }
   },
   "cell_type": "code",
   "source": "s.name",
   "id": "84154d3220bcd170",
   "outputs": [
    {
     "data": {
      "text/plain": [
       "'col'"
      ]
     },
     "execution_count": 10,
     "metadata": {},
     "output_type": "execute_result"
    }
   ],
   "execution_count": 10
  },
  {
   "metadata": {
    "ExecuteTime": {
     "end_time": "2024-10-07T02:27:14.392204Z",
     "start_time": "2024-10-07T02:27:14.386406Z"
    }
   },
   "cell_type": "code",
   "source": "s.dtype",
   "id": "43671d0ef4a75dda",
   "outputs": [
    {
     "data": {
      "text/plain": [
       "Int64"
      ]
     },
     "execution_count": 11,
     "metadata": {},
     "output_type": "execute_result"
    }
   ],
   "execution_count": 11
  },
  {
   "metadata": {},
   "cell_type": "code",
   "outputs": [],
   "execution_count": null,
   "source": "",
   "id": "c125162db46e6ef1"
  }
 ],
 "metadata": {
  "kernelspec": {
   "display_name": "Python 3",
   "language": "python",
   "name": "python3"
  },
  "language_info": {
   "codemirror_mode": {
    "name": "ipython",
    "version": 2
   },
   "file_extension": ".py",
   "mimetype": "text/x-python",
   "name": "python",
   "nbconvert_exporter": "python",
   "pygments_lexer": "ipython2",
   "version": "2.7.6"
  }
 },
 "nbformat": 4,
 "nbformat_minor": 5
}
